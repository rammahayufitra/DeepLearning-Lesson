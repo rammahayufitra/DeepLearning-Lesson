{
 "cells": [
  {
   "cell_type": "code",
   "execution_count": 2,
   "metadata": {},
   "outputs": [
    {
     "name": "stdout",
     "output_type": "stream",
     "text": [
      "/home/ramma/XPROJECT/deep-learning\n"
     ]
    }
   ],
   "source": [
    "!pwd \n",
    "!source  .venv/bin/activate"
   ]
  },
  {
   "cell_type": "code",
   "execution_count": 11,
   "metadata": {},
   "outputs": [],
   "source": [
    "import torch \n",
    "from torchvision import datasets \n",
    "\n",
    "data_folder   = 'data' \n",
    "\n",
    "fmnist_train  = datasets.FashionMNIST(data_folder, download=True, train=True  )\n",
    "fmnist_val    = datasets.FashionMNIST(data_folder, download=True, train=False )\n",
    "\n",
    "tr_images     = fmnist_train.data \n",
    "tr_targets    = fmnist_train.targets\n",
    "\n",
    "val_images    = fmnist_val.data \n",
    "val_targets   = fmnist_val.targets \n",
    "\n",
    "\n",
    "\n"
   ]
  },
  {
   "cell_type": "code",
   "execution_count": 13,
   "metadata": {},
   "outputs": [
    {
     "data": {
      "text/plain": [
       "'cuda'"
      ]
     },
     "execution_count": 13,
     "metadata": {},
     "output_type": "execute_result"
    }
   ],
   "source": [
    "import matplotlib.pyplot as plt \n",
    "import numpy as np\n",
    "import torch \n",
    "import torch.nn as nn \n",
    "from torch.utils.data import Dataset, DataLoader\n",
    "\n",
    "device = 'cuda' if torch.cuda.is_available() else 'cpu'\n",
    "device"
   ]
  },
  {
   "cell_type": "markdown",
   "metadata": {},
   "source": [
    "Without BatchNormalization"
   ]
  },
  {
   "cell_type": "code",
   "execution_count": 14,
   "metadata": {},
   "outputs": [],
   "source": [
    "class FMNISTDataset(Dataset):\n",
    "    def __init__(self, x, y):\n",
    "        x  = x.float()/(255*10000)\n",
    "        x  = x.view(-1, 28*28)\n",
    "        self.x, self.y = x, y\n",
    "    def __getitem__(self, ix): \n",
    "        x, y = self.x[ix], self.y[ix]\n",
    "        return x.to(device), y.to(device)\n",
    "    def __len__(self):\n",
    "        return len(self.x)\n",
    "\n",
    "def get_data():     \n",
    "    train = FMNISTDataset(tr_images, tr_targets)     \n",
    "    trn_dl = DataLoader(train, batch_size=32, shuffle=True)\n",
    "    val = FMNISTDataset(val_images, val_targets)     \n",
    "    val_dl = DataLoader(val, batch_size=len(val_images), shuffle=True)\n",
    "    return trn_dl, val_dl\n",
    "\n",
    "trn_dl, val_dl = get_data()"
   ]
  },
  {
   "cell_type": "code",
   "execution_count": null,
   "metadata": {},
   "outputs": [],
   "source": [
    "from torch.optim import SGD, Adam\n",
    "\n",
    "def get_model():\n",
    "    class neuralnet(nn.Module):\n",
    "        def __init__(self):\n",
    "            super().__init__()\n",
    "            self.input_to_hidden_layer = nn.Linear(784,1000)\n",
    "            self.hidden_layer_activation = nn.ReLU()\n",
    "            self.hidden_to_output_layer = nn.Linear(1000,10)\n",
    "        def forward(self, x):\n",
    "            x = self.input_to_hidden_layer(x)\n",
    "            x1 = self.hidden_layer_activation(x)\n",
    "            x2= self.hidden_to_output_layer(x1)\n",
    "            return x2, x1\n",
    "    model = neuralnet().to(device)\n",
    "\n",
    "    loss_fn = nn.CrossEntropyLoss()\n",
    "    optimizer = Adam(model.parameters(), lr=1e-3)\n",
    "    return model, loss_fn, optimizer\n",
    "\n",
    "def train_batch(x, y, model, opt, loss_fn):\n",
    "    prediction = model(x)[0]\n",
    "    batch_loss = loss_fn(prediction, y)\n",
    "    batch_loss.backward()\n",
    "    optimizer.step()\n",
    "    optimizer.zero_grad()\n",
    "    return batch_loss.item()\n",
    "\n",
    "@torch.no_grad()\n",
    "def val_loss(x, y, model):\n",
    "    model.eval()\n",
    "    prediction = model(x)[0]\n",
    "    val_loss = loss_fn(prediction, y)\n",
    "    return val_loss.item()\n",
    "\n",
    "def accuracy(x, y, model):\n",
    "    with torch.no_grad():\n",
    "        prediction = model(x)[0]\n",
    "    max_values, argmaxes = prediction.max(-1)\n",
    "    is_correct = argmaxes == y\n",
    "    return is_correct.cpu().numpy().tolist()\n",
    "\n",
    "model, loss_fn, optimizer = get_model()"
   ]
  }
 ],
 "metadata": {
  "kernelspec": {
   "display_name": ".venv",
   "language": "python",
   "name": "python3"
  },
  "language_info": {
   "codemirror_mode": {
    "name": "ipython",
    "version": 3
   },
   "file_extension": ".py",
   "mimetype": "text/x-python",
   "name": "python",
   "nbconvert_exporter": "python",
   "pygments_lexer": "ipython3",
   "version": "3.8.10"
  }
 },
 "nbformat": 4,
 "nbformat_minor": 2
}
